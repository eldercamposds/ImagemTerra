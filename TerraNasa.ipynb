{
  "cells": [
    {
      "cell_type": "markdown",
      "metadata": {
        "id": "view-in-github",
        "colab_type": "text"
      },
      "source": [
        "<a href=\"https://colab.research.google.com/github/eldercamposds/ImagemTerra/blob/main/TerraNasa.ipynb\" target=\"_parent\"><img src=\"https://colab.research.google.com/assets/colab-badge.svg\" alt=\"Open In Colab\"/></a>"
      ]
    },
    {
      "cell_type": "markdown",
      "metadata": {
        "id": "wiVXe4Ocg9jB"
      },
      "source": []
    },
    {
      "cell_type": "code",
      "execution_count": 14,
      "metadata": {
        "id": "dEqV36owg9MK"
      },
      "outputs": [],
      "source": [
        "import requests\n",
        "from datetime import datetime\n",
        "\n",
        "import cv2\n",
        "import numpy as np\n",
        "from PIL import Image\n",
        "from io import BytesIO"
      ]
    },
    {
      "cell_type": "code",
      "execution_count": 3,
      "metadata": {
        "id": "_UwsFWrShNcI"
      },
      "outputs": [],
      "source": [
        "api_key = \"kA0LMGX7xbrxo1BaCYMhqwckLTfUpKmeWtOWVObs\""
      ]
    },
    {
      "cell_type": "code",
      "execution_count": 4,
      "metadata": {
        "id": "yoByhsw_hNYf"
      },
      "outputs": [],
      "source": [
        "url = f\"https://api.nasa.gov/EPIC/api/natural/all?api_key={api_key}\""
      ]
    },
    {
      "cell_type": "code",
      "execution_count": 5,
      "metadata": {
        "id": "EOnvWnajhNVz"
      },
      "outputs": [],
      "source": [
        "resposta = requests.get(url)\n",
        "datas_disponiveis = resposta.json()\n"
      ]
    },
    {
      "cell_type": "code",
      "execution_count": 10,
      "metadata": {
        "id": "pTrtOYzkkwT5"
      },
      "outputs": [],
      "source": [
        "# Define o intervalo desejado\n",
        "inicio = datetime.strptime(\"2024-06-01\", \"%Y-%m-%d\")\n",
        "fim = datetime.strptime(\"2024-06-02\", \"%Y-%m-%d\")"
      ]
    },
    {
      "cell_type": "code",
      "execution_count": 11,
      "metadata": {
        "id": "Osj9iJ4NlEvL"
      },
      "outputs": [],
      "source": [
        "# Filtra as datas dentro do intervalo\n",
        "datas_filtradas = [d['date'] for d in datas_disponiveis if inicio <= datetime.strptime(d['date'], \"%Y-%m-%d\") <= fim]"
      ]
    },
    {
      "cell_type": "code",
      "execution_count": 12,
      "metadata": {
        "colab": {
          "base_uri": "https://localhost:8080/"
        },
        "id": "-D0L_nY0ntv_",
        "outputId": "5435ac09-cc4d-485a-fd4a-be65314b31a0"
      },
      "outputs": [
        {
          "output_type": "execute_result",
          "data": {
            "text/plain": [
              "['2024-06-02', '2024-06-01']"
            ]
          },
          "metadata": {},
          "execution_count": 12
        }
      ],
      "source": [
        "datas_filtradas"
      ]
    },
    {
      "cell_type": "code",
      "execution_count": 13,
      "metadata": {
        "colab": {
          "base_uri": "https://localhost:8080/"
        },
        "id": "NTsGyGZ2lBUQ",
        "outputId": "6a301058-94ff-4adb-9d7d-bb9311987a43"
      },
      "outputs": [
        {
          "output_type": "stream",
          "name": "stdout",
          "text": [
            "2024-06-02: 1 imagens\n",
            "https://api.nasa.gov/EPIC/api/natural/date/2024-06-02?api_key=kA0LMGX7xbrxo1BaCYMhqwckLTfUpKmeWtOWVObs\n",
            "2024-06-01: 2 imagens\n",
            "https://api.nasa.gov/EPIC/api/natural/date/2024-06-01?api_key=kA0LMGX7xbrxo1BaCYMhqwckLTfUpKmeWtOWVObs\n"
          ]
        }
      ],
      "source": [
        "# Agora você pode buscar as imagens de cada data\n",
        "imagens = []\n",
        "for data in datas_filtradas:\n",
        "    url = f\"https://api.nasa.gov/EPIC/api/natural/date/{data}?api_key={api_key}\"\n",
        "    resposta = requests.get(url)\n",
        "    get_imagens = resposta.json()\n",
        "    imagens.append(get_imagens)\n",
        "    print(f\"{data}: {len(imagens)} imagens\")\n",
        "    print(url)"
      ]
    },
    {
      "cell_type": "code",
      "execution_count": null,
      "metadata": {
        "colab": {
          "base_uri": "https://localhost:8080/"
        },
        "id": "0qcu79WIhNTC",
        "outputId": "d9b4ece7-524c-4c5e-928d-a6f7702db5fd"
      },
      "outputs": [
        {
          "name": "stdout",
          "output_type": "stream",
          "text": [
            "https://epic.gsfc.nasa.gov/archive/natural/2025/01/01/png/epic_1b_20250101001751.png\n",
            "https://epic.gsfc.nasa.gov/archive/natural/2025/01/01/png/epic_1b_20250101020554.png\n",
            "https://epic.gsfc.nasa.gov/archive/natural/2025/01/01/png/epic_1b_20250101035356.png\n",
            "https://epic.gsfc.nasa.gov/archive/natural/2025/01/01/png/epic_1b_20250101054159.png\n",
            "https://epic.gsfc.nasa.gov/archive/natural/2025/01/01/png/epic_1b_20250101073001.png\n",
            "https://epic.gsfc.nasa.gov/archive/natural/2025/01/01/png/epic_1b_20250101091803.png\n",
            "https://epic.gsfc.nasa.gov/archive/natural/2025/01/01/png/epic_1b_20250101110605.png\n",
            "https://epic.gsfc.nasa.gov/archive/natural/2025/01/01/png/epic_1b_20250101125407.png\n",
            "https://epic.gsfc.nasa.gov/archive/natural/2025/01/01/png/epic_1b_20250101144210.png\n",
            "https://epic.gsfc.nasa.gov/archive/natural/2025/01/01/png/epic_1b_20250101163013.png\n",
            "https://epic.gsfc.nasa.gov/archive/natural/2025/01/01/png/epic_1b_20250101181815.png\n",
            "https://epic.gsfc.nasa.gov/archive/natural/2025/01/01/png/epic_1b_20250101200617.png\n",
            "https://epic.gsfc.nasa.gov/archive/natural/2025/01/01/png/epic_1b_20250101215420.png\n"
          ]
        }
      ],
      "source": [
        "# for imagem in imagens:\n",
        "#     nome = imagem['image']\n",
        "#     data_formatada = data.replace(\"-\", \"/\")\n",
        "#     url_imagem = f\"https://epic.gsfc.nasa.gov/archive/natural/{data_formatada}/png/{nome}.png\"\n",
        "#     print(url_imagem)"
      ]
    },
    {
      "cell_type": "code",
      "source": [
        "for i, img in enumerate(imagens):\n",
        "    data = img[i]['date'].split()[0]\n",
        "    print(data)"
      ],
      "metadata": {
        "colab": {
          "base_uri": "https://localhost:8080/"
        },
        "id": "QnXYYWptKACW",
        "outputId": "da006b21-19b7-43cd-e03a-9873501e19e7"
      },
      "execution_count": 28,
      "outputs": [
        {
          "output_type": "stream",
          "name": "stdout",
          "text": [
            "2024-06-02\n",
            "2024-06-01\n"
          ]
        }
      ]
    },
    {
      "cell_type": "code",
      "execution_count": 30,
      "metadata": {
        "colab": {
          "base_uri": "https://localhost:8080/"
        },
        "id": "u97C6J8ghNCQ",
        "outputId": "4679ccf8-c5aa-4403-910f-77fa063374b7"
      },
      "outputs": [
        {
          "output_type": "stream",
          "name": "stdout",
          "text": [
            "2024-06-02\n",
            "epic_1b_20240602010436\n",
            "2024-06-02\n",
            "2024-06-01\n",
            "epic_1b_20240601015122\n",
            "2024-06-01\n"
          ]
        }
      ],
      "source": [
        "frames = []\n",
        "data_formatada = data.replace(\"-\", \"/\")\n",
        "for i, img in enumerate(imagens):\n",
        "    nome = img[i]['image']\n",
        "    data = img[i]['date'].split()[0]\n",
        "    print(data)\n",
        "    print(nome)\n",
        "    for dt in datas_filtradas:\n",
        "      if dt == data:\n",
        "        print(dt)\n",
        "      #url = f\"https://epic.gsfc.nasa.gov/archive/natural/{data_formatada}/png/{nome}.png\"\n",
        "      # img_bytes = requests.get(url).content\n",
        "      # pil_img = Image.open(BytesIO(img_bytes)).resize((720, 720))\n",
        "      # frame = cv2.cvtColor(np.array(pil_img), cv2.COLOR_RGB2BGR)\n",
        "      # frames.append(frame)"
      ]
    },
    {
      "cell_type": "code",
      "execution_count": null,
      "metadata": {
        "colab": {
          "base_uri": "https://localhost:8080/"
        },
        "id": "r7rvqA6libx_",
        "outputId": "5752243d-1e95-4d74-dc20-31046630dd0a"
      },
      "outputs": [
        {
          "name": "stdout",
          "output_type": "stream",
          "text": [
            "✅ Vídeo salvo como 'epic_video_2024_2025.avi'\n"
          ]
        }
      ],
      "source": [
        "# Cria o vídeo\n",
        "altura, largura, _ = frames[0].shape\n",
        "video = cv2.VideoWriter('epic_video_2024_2025.avi', cv2.VideoWriter_fourcc(*'XVID'), 1, (largura, altura))\n",
        "\n",
        "for frame in frames:\n",
        "    video.write(frame)\n",
        "\n",
        "# Loop reverso para dar efeito de vai e volta\n",
        "for frame in frames:\n",
        "    video.write(frame)\n",
        "\n",
        "video.release()\n",
        "print(\"✅ Vídeo salvo como 'epic_video_2024_2025.avi'\")"
      ]
    },
    {
      "cell_type": "markdown",
      "metadata": {
        "id": "UjujPYTGg-HY"
      },
      "source": [
        "# Testes"
      ]
    },
    {
      "cell_type": "code",
      "execution_count": null,
      "metadata": {
        "colab": {
          "base_uri": "https://localhost:8080/"
        },
        "id": "tgrAB78jwYPU",
        "outputId": "ddbdafeb-e2ef-48e9-c420-bfb626ea1a86"
      },
      "outputs": [
        {
          "name": "stdout",
          "output_type": "stream",
          "text": [
            "Collecting python-dotenv\n",
            "  Downloading python_dotenv-1.1.0-py3-none-any.whl.metadata (24 kB)\n",
            "Downloading python_dotenv-1.1.0-py3-none-any.whl (20 kB)\n",
            "Installing collected packages: python-dotenv\n",
            "Successfully installed python-dotenv-1.1.0\n"
          ]
        }
      ],
      "source": [
        "!pip install python-dotenv"
      ]
    },
    {
      "cell_type": "code",
      "execution_count": null,
      "metadata": {
        "colab": {
          "base_uri": "https://localhost:8080/"
        },
        "id": "-7DGAgHyDPeD",
        "outputId": "732d5753-be5b-42c2-ba24-b275d5615e81"
      },
      "outputs": [
        {
          "name": "stdout",
          "output_type": "stream",
          "text": [
            "Requirement already satisfied: requests in /usr/local/lib/python3.11/dist-packages (2.32.3)\n",
            "Requirement already satisfied: charset-normalizer<4,>=2 in /usr/local/lib/python3.11/dist-packages (from requests) (3.4.2)\n",
            "Requirement already satisfied: idna<4,>=2.5 in /usr/local/lib/python3.11/dist-packages (from requests) (3.10)\n",
            "Requirement already satisfied: urllib3<3,>=1.21.1 in /usr/local/lib/python3.11/dist-packages (from requests) (2.4.0)\n",
            "Requirement already satisfied: certifi>=2017.4.17 in /usr/local/lib/python3.11/dist-packages (from requests) (2025.4.26)\n"
          ]
        }
      ],
      "source": [
        "!pip install requests"
      ]
    },
    {
      "cell_type": "code",
      "execution_count": null,
      "metadata": {
        "id": "3EGiI8KZC-oX"
      },
      "outputs": [],
      "source": [
        "import requests\n",
        "#url = \"https://api.nasa.gov/neo/rest/v1/feed?start_date=YYYY-MM-DD&end_date=YYYY-MM-DD&api_key=YOUR_API_KEY\"\n",
        "url = \"https://api.nasa.gov/planetary/apod\""
      ]
    },
    {
      "cell_type": "code",
      "execution_count": null,
      "metadata": {
        "id": "RzsGUIJlDM1P"
      },
      "outputs": [],
      "source": [
        "params = {\n",
        "\n",
        "    \"api_key\": \"kA0LMGX7xbrxo1BaCYMhqwckLTfUpKmeWtOWVObs\"\n",
        "\n",
        "}"
      ]
    },
    {
      "cell_type": "code",
      "execution_count": null,
      "metadata": {
        "id": "n9JDKmnpDUxZ"
      },
      "outputs": [],
      "source": [
        "response = requests.get(url, params=params)"
      ]
    },
    {
      "cell_type": "code",
      "execution_count": null,
      "metadata": {
        "colab": {
          "base_uri": "https://localhost:8080/",
          "height": 219
        },
        "id": "sn-lQ1atDeNg",
        "outputId": "bf258792-ef4b-4f40-c271-4bf5b41f8a95"
      },
      "outputs": [
        {
          "ename": "KeyError",
          "evalue": "'near_earth_objects'",
          "output_type": "error",
          "traceback": [
            "\u001b[0;31m---------------------------------------------------------------------------\u001b[0m",
            "\u001b[0;31mKeyError\u001b[0m                                  Traceback (most recent call last)",
            "\u001b[0;32m<ipython-input-6-3cfd46aa1341>\u001b[0m in \u001b[0;36m<cell line: 0>\u001b[0;34m()\u001b[0m\n\u001b[1;32m      1\u001b[0m \u001b[0;32mif\u001b[0m \u001b[0mresponse\u001b[0m\u001b[0;34m.\u001b[0m\u001b[0mstatus_code\u001b[0m \u001b[0;34m==\u001b[0m \u001b[0;36m200\u001b[0m\u001b[0;34m:\u001b[0m\u001b[0;34m\u001b[0m\u001b[0;34m\u001b[0m\u001b[0m\n\u001b[1;32m      2\u001b[0m     \u001b[0mdata\u001b[0m \u001b[0;34m=\u001b[0m \u001b[0mresponse\u001b[0m\u001b[0;34m.\u001b[0m\u001b[0mjson\u001b[0m\u001b[0;34m(\u001b[0m\u001b[0;34m)\u001b[0m\u001b[0;34m\u001b[0m\u001b[0;34m\u001b[0m\u001b[0m\n\u001b[0;32m----> 3\u001b[0;31m     \u001b[0;32mfor\u001b[0m \u001b[0masteroid\u001b[0m \u001b[0;32min\u001b[0m \u001b[0mdata\u001b[0m\u001b[0;34m[\u001b[0m\u001b[0;34m\"near_earth_objects\"\u001b[0m\u001b[0;34m]\u001b[0m\u001b[0;34m[\u001b[0m\u001b[0;34m\"2025-06-01\"\u001b[0m\u001b[0;34m]\u001b[0m\u001b[0;34m:\u001b[0m\u001b[0;34m\u001b[0m\u001b[0;34m\u001b[0m\u001b[0m\n\u001b[0m\u001b[1;32m      4\u001b[0m         \u001b[0mprint\u001b[0m\u001b[0;34m(\u001b[0m\u001b[0;34mf\"Nome: {asteroid['name']}\"\u001b[0m\u001b[0;34m)\u001b[0m\u001b[0;34m\u001b[0m\u001b[0;34m\u001b[0m\u001b[0m\n\u001b[1;32m      5\u001b[0m         \u001b[0mprint\u001b[0m\u001b[0;34m(\u001b[0m\u001b[0;34mf\"Diâmetro estimado: {asteroid['estimated_diameter']['kilometers']['estimated_diameter_max']} km\"\u001b[0m\u001b[0;34m)\u001b[0m\u001b[0;34m\u001b[0m\u001b[0;34m\u001b[0m\u001b[0m\n",
            "\u001b[0;31mKeyError\u001b[0m: 'near_earth_objects'"
          ]
        }
      ],
      "source": [
        "if response.status_code == 200:\n",
        "    data = response.json()\n",
        "    for asteroid in data[\"near_earth_objects\"][\"2025-06-01\"]:\n",
        "        print(f\"Nome: {asteroid['name']}\")\n",
        "        print(f\"Diâmetro estimado: {asteroid['estimated_diameter']['kilometers']['estimated_diameter_max']} km\")\n",
        "        print(f\"Velocidade relativa: {asteroid['close_approach_data'][0]['relative_velocity']['kilometers_per_hour']} km/h\")\n",
        "        print(f\"Distância mínima da Terra: {asteroid['close_approach_data'][0]['miss_distance']['kilometers']} km\")\n",
        "        print(\"-\" * 40)\n",
        "else:\n",
        "    print(\"Erro ao acessar a API:\", response.status_code)"
      ]
    },
    {
      "cell_type": "code",
      "execution_count": null,
      "metadata": {
        "id": "bQ0bF9JqDn4W"
      },
      "outputs": [],
      "source": []
    }
  ],
  "metadata": {
    "colab": {
      "provenance": [],
      "toc_visible": true,
      "authorship_tag": "ABX9TyPGEBs0kO57T3w49prsHk6S",
      "include_colab_link": true
    },
    "kernelspec": {
      "display_name": "Python 3",
      "name": "python3"
    },
    "language_info": {
      "name": "python"
    }
  },
  "nbformat": 4,
  "nbformat_minor": 0
}